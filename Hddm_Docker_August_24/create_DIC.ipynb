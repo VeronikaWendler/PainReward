{
 "cells": [
  {
   "cell_type": "code",
   "execution_count": 3,
   "metadata": {},
   "outputs": [],
   "source": [
    "# Concatenate all DIC values\n",
    "# sort them from lowest to highest\n",
    "\n",
    "import os, sys, pickle, time, csv\n",
    "import pandas as pd\n",
    "import numpy as np\n",
    "\n",
    "out_path = '/home/jovyan/OfficialTutorials/figures/Dic_values.csv'\n",
    "model_base_name = 'painreward_behavioural_data_combined_new_'\n",
    "model_names = [\n",
    "               'r0', 'r1', 'r2', 'r3', 'r4', 'r5', 'r6', 'r7', 'r8', 'r9', 'r10',\n",
    "               'r11', 'r12', 'r13', 'r14', 'r15', 'r16', 'r17', 'r18','r19', 'r20',\n",
    "               'r21', 'r22', 'r23', 'r24','r25', 'r26', 'r27', 'r28', 'r29', 'r30',\n",
    "               'r31','r32', 'r33','r34','r35', 'r36', 'r37', 'r38', 'r39', 'r40',\n",
    "               'r41','r42', 'r43','r44','r45', 'r46', 'r47', 'r48', 'r49', 'r50', \n",
    "               'r51', 'r52', 'r53'\n",
    "               ]\n",
    "\n",
    "dic_data = []\n",
    "\n",
    "for m in model_names:\n",
    "    Dic_directory= f'/home/jovyan/OfficialTutorials/figures/{model_base_name}{m}/diagnostics/DIC.txt'\n",
    "    if os.path.exists(Dic_directory):\n",
    "        with open(Dic_directory, 'r') as file:\n",
    "            with open(Dic_directory, 'r') as file:\n",
    "                dic_value = file.readline().strip().replace('DIC: ', '')\n",
    "                dic_data.append([m, dic_value])\n",
    "                \n",
    "dic_data.sort(key=lambda x: x[1])\n",
    "\n",
    "\n",
    "with open(out_path, 'w', newline='') as csv_file:\n",
    "    writer = csv.writer(csv_file)\n",
    "    writer.writerow(['Model', 'DIC'])\n",
    "    writer.writerows(dic_data)\n",
    "        \n",
    "    "
   ]
  }
 ],
 "metadata": {
  "kernelspec": {
   "display_name": "base",
   "language": "python",
   "name": "python3"
  },
  "language_info": {
   "codemirror_mode": {
    "name": "ipython",
    "version": 3
   },
   "file_extension": ".py",
   "mimetype": "text/x-python",
   "name": "python",
   "nbconvert_exporter": "python",
   "pygments_lexer": "ipython3",
   "version": "3.9.13"
  }
 },
 "nbformat": 4,
 "nbformat_minor": 2
}
